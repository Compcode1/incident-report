{
 "cells": [
  {
   "cell_type": "markdown",
   "metadata": {},
   "source": [
    "#### **ASSIGNMENT:** \n",
    "\n",
    "You are a cybersecurity analyst working at a company that specializes in providing IT services for clients. Several customers of clients reported that they were not able to access the client company website www.yummyrecipesforme.com, and saw the error “destination port unreachable” after waiting for the page to load. \n",
    "\n",
    "You are tasked with analyzing the situation and determining which network protocol was affected during this incident. To start, you attempt to visit the website and you also receive the error “destination port unreachable.” To troubleshoot the issue, you load your network analyzer tool, tcpdump, and attempt to load the webpage again. To load the webpage, your browser sends a query to a DNS server via the UDP protocol to retrieve the IP address for the website's domain name; this is part of the DNS protocol. Your browser then uses this IP address as the destination IP for sending an HTTPS request to the web server to display the webpage.,  The analyzer shows that when you send UDP packets to the DNS server, you receive ICMP packets containing the error message: “udp port 53 unreachable.” "
   ]
  },
  {
   "cell_type": "markdown",
   "metadata": {},
   "source": [
    "![alt text](image.png)"
   ]
  },
  {
   "cell_type": "markdown",
   "metadata": {},
   "source": [
    "#### **Cybersecurity Incident Report**\n",
    "\n",
    "**Network Traffic Analysis**\n",
    "\n",
    "**Part 1: Summary of the Problem Found in the DNS and ICMP Traffic**\n",
    "\n",
    "Several customers and clients reported being unable to access the website www.yummyrecipesforme.com, encountering the error \"destination port unreachable\" after waiting for the page to load. When I attempted to access the website, I encountered the same issue.\n",
    "\n",
    "To investigate, I utilized the network protocol analyzer tool, tcpdump, and attempted to load the website again. The analyzer logs revealed that when sending UDP packets to the DNS server, the response was ICMP packets containing the error message: \"udp port 53 unreachable.\" This indicates that the DNS service is unavailable on Port 53, which is responsible for resolving domain names to IP addresses.\n",
    "\n",
    "**Key Findings:**\n",
    "\n",
    "The error message \"udp port 53 unreachable\" suggests the DNS server is either:\n",
    "\n",
    "Misconfigured: The service on Port 53 is not running or accessible.\n",
    "Blocked: A firewall or network policy is preventing access to Port 53.\n",
    "Offline: The DNS server itself may be down or experiencing issues.\n",
    "\n",
    "**Port 53 Function:** This port is dedicated to DNS (Domain Name System) services, enabling the resolution of domain names (e.g., www.yummyrecipesforme.com) to their corresponding IP addresses.\n",
    "\n",
    "**Part 2: Analysis of the Data and Cause of the Incident**\n",
    "\n",
    "The incident occurred at 1:24 p.m., 32.192571 seconds, when customers began reporting the inability to load the website. Upon analyzing the tcpdump logs, the network security team confirmed that no response was received from the DNS server on UDP Port 53, leading to the error. Without DNS resolution, users cannot access the website, as their browsers cannot determine the website's corresponding IP address.\n",
    "\n",
    "**Likely Cause of the Incident:**\n",
    "Misconfigured DNS Server:\n",
    "The DNS service may not be running on the server due to a software crash or misconfiguration.\n",
    "No process is actively listening on Port 53, resulting in the \"unreachable\" response.\n",
    "\n",
    "Firewall Blocking:\n",
    "A recently implemented firewall rule or network security policy might inadvertently block Port 53 traffic to the DNS server.\n",
    "\n",
    "DNS Server Failure:\n",
    "The DNS server may be offline due to a hardware failure, power outage, or DDoS attack targeting its resources.\n",
    "\n",
    "**Next Steps:**\n",
    "\n",
    "DNS Server Troubleshooting:\n",
    "Verify the DNS service is running and configured to listen on Port 53.\n",
    "Restart the DNS server service to address potential crashes.\n",
    "\n",
    "Firewall Configuration Check:\n",
    "Review firewall rules to ensure that Port 53 traffic to the DNS server is allowed.\n",
    "Update rules if necessary.\n",
    "\n",
    "Monitor the DNS Server:\n",
    "Check for signs of a Distributed Denial of Service (DDoS) attack targeting the DNS server.\n",
    "Implement rate limiting or other security measures if an attack is suspected.\n",
    "\n",
    "By addressing these issues, the IT department can restore access to www.yummyrecipesforme.com and ensure reliable DNS resolution for customers."
   ]
  }
 ],
 "metadata": {
  "language_info": {
   "name": "python"
  }
 },
 "nbformat": 4,
 "nbformat_minor": 2
}
